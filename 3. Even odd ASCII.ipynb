{
 "cells": [
  {
   "cell_type": "markdown",
   "metadata": {},
   "source": [
    "### **ANN Assignment:- 3**\n",
    "### Write a Python Program using Perceptron Neural Network to recognise even and odd numbers. Given numbers are in ASCII form 0 to 9"
   ]
  },
  {
   "cell_type": "code",
   "execution_count": 1,
   "metadata": {},
   "outputs": [],
   "source": [
    "import numpy as np"
   ]
  },
  {
   "cell_type": "code",
   "execution_count": 2,
   "metadata": {},
   "outputs": [],
   "source": [
    "weights = np.random.random(8)\n",
    "bias = 0.1\n",
    "threshold = 1.1\n",
    "learning_rate = 0.1\n",
    "epochs = 1000\n",
    "\n",
    "x = []\n",
    "def conv(num):\n",
    "    ascii_value = ord(str(num))\n",
    "    binary_form = np.binary_repr(ascii_value, width=8)\n",
    "    x = np.zeros(8, dtype=int)\n",
    "    \n",
    "    for i in range(8):\n",
    "        x[i] = int(binary_form[i])\n",
    "\n",
    "    return x"
   ]
  },
  {
   "cell_type": "code",
   "execution_count": 3,
   "metadata": {},
   "outputs": [],
   "source": [
    "def step_function(weighted_sum):\n",
    "    if weighted_sum > threshold:\n",
    "        return 1  # Representing odd\n",
    "    else:\n",
    "        return 0  # Representing even"
   ]
  },
  {
   "cell_type": "code",
   "execution_count": 4,
   "metadata": {},
   "outputs": [],
   "source": [
    "def perceptron(x):\n",
    "    weighted_sum = np.dot(x, weights) + bias\n",
    "    return step_function(weighted_sum)\n"
   ]
  },
  {
   "cell_type": "code",
   "execution_count": 5,
   "metadata": {},
   "outputs": [],
   "source": [
    "def train_perceptron(input_num, target):\n",
    "    global weights, bias\n",
    "    x = conv(input_num)\n",
    "    output = perceptron(x)\n",
    "    error = target - output\n",
    "    weights += learning_rate * error * x\n",
    "    bias += learning_rate * error"
   ]
  },
  {
   "cell_type": "code",
   "execution_count": 6,
   "metadata": {},
   "outputs": [
    {
     "name": "stdout",
     "output_type": "stream",
     "text": [
      "Training converged after 3 epochs.\n"
     ]
    }
   ],
   "source": [
    "# Training\n",
    "training_data = [(4, 0), (5, 1), (6, 0), (7, 1), (8, 0), (9, 1)]\n",
    "\n",
    "# Loop through a range of epochs for training\n",
    "for epoch in range(epochs):\n",
    "    # Initialize the error counter to track errors in this epoch\n",
    "    errors = 0        \n",
    "    for input_num, target in training_data:\n",
    "        output = perceptron(conv(input_num))\n",
    "        if output != target:\n",
    "            train_perceptron(input_num, target)\n",
    "            errors += 1\n",
    "    # Check if there were no errors in this epoch\n",
    "    if errors == 0:   \n",
    "        print(f\"Training converged after {epoch+1} epochs.\")\n",
    "        break\n",
    "else:\n",
    "    print(\"Training did not converge.\")\n"
   ]
  },
  {
   "cell_type": "code",
   "execution_count": 11,
   "metadata": {},
   "outputs": [
    {
     "name": "stdout",
     "output_type": "stream",
     "text": [
      "Given number: 7\n",
      "ASCII value of the given number: 55\n",
      "Binary representation of ASCII value: [0 0 1 1 0 1 1 1]\n",
      "The given number is odd\n"
     ]
    }
   ],
   "source": [
    "num = int(input(\"Enter the number: \"))\n",
    "print(\"Given number:\", num)\n",
    "print(f\"ASCII value of the given number: {ord(str(num))}\")\n",
    "print(f\"Binary representation of ASCII value: {conv(num)}\")\n",
    "\n",
    "op = perceptron(conv(num))\n",
    "\n",
    "if op == 1:\n",
    "    print(\"The given number is odd\")\n",
    "else:\n",
    "    print(\"The given number is even\")"
   ]
  },
  {
   "cell_type": "code",
   "execution_count": null,
   "metadata": {},
   "outputs": [],
   "source": []
  },
  {
   "cell_type": "code",
   "execution_count": null,
   "metadata": {},
   "outputs": [],
   "source": []
  }
 ],
 "metadata": {
  "kernelspec": {
   "display_name": "Python 3 (ipykernel)",
   "language": "python",
   "name": "python3"
  },
  "language_info": {
   "codemirror_mode": {
    "name": "ipython",
    "version": 3
   },
   "file_extension": ".py",
   "mimetype": "text/x-python",
   "name": "python",
   "nbconvert_exporter": "python",
   "pygments_lexer": "ipython3",
   "version": "3.11.5"
  }
 },
 "nbformat": 4,
 "nbformat_minor": 2
}
