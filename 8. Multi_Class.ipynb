{
 "cells": [
  {
   "cell_type": "code",
   "execution_count": 11,
   "id": "9fe03d3b",
   "metadata": {},
   "outputs": [],
   "source": [
    "import numpy as np\n",
    "from sklearn.datasets import load_iris\n",
    "from sklearn.model_selection import train_test_split\n"
   ]
  },
  {
   "cell_type": "code",
   "execution_count": 12,
   "id": "f333169c",
   "metadata": {},
   "outputs": [],
   "source": [
    "def relu(x):\n",
    "    return np.maximum(0, x)\n",
    "\n",
    "def softmax(x):\n",
    "    exp_values = np.exp(x - np.max(x, axis=1, keepdims=True))\n",
    "    return exp_values / np.sum(exp_values, axis=1, keepdims=True)"
   ]
  },
  {
   "cell_type": "code",
   "execution_count": 13,
   "id": "422a90ad",
   "metadata": {},
   "outputs": [],
   "source": [
    "def relu(x):\n",
    "    return np.maximum(0, x)\n",
    "\n",
    "def softmax(x):\n",
    "    exp_values = np.exp(x - np.max(x, axis=1, keepdims=True))\n",
    "    return exp_values / np.sum(exp_values, axis=1, keepdims=True)\n",
    "\n",
    "class NeuralNetwork:\n",
    "    def __init__(self, inputLayerNeurons, hiddenLayerNeurons, outputLayerNeurons, lr):\n",
    "        self.hidden_weights = np.random.uniform(size=(inputLayerNeurons, hiddenLayerNeurons))\n",
    "        self.hidden_bias = np.random.uniform(size=(1, hiddenLayerNeurons))\n",
    "        self.output_weights = np.random.uniform(size=(hiddenLayerNeurons, outputLayerNeurons))\n",
    "        self.output_bias = np.random.uniform(size=(1, outputLayerNeurons))\n",
    "        self.lr = lr\n",
    "\n",
    "    def forward_prop(self, X):\n",
    "        hidden_layer_output = relu(np.dot(X, self.hidden_weights) + self.hidden_bias)\n",
    "        output_layer_output = softmax(np.dot(hidden_layer_output, self.output_weights) + self.output_bias)\n",
    "        return output_layer_output\n",
    "\n",
    "    def train(self, X_train, y_train, epochs):\n",
    "        for epoch in range(epochs):\n",
    "            hidden_layer_output = relu(np.dot(X_train, self.hidden_weights) + self.hidden_bias)\n",
    "            output_layer_output = softmax(np.dot(hidden_layer_output, self.output_weights) + self.output_bias)\n",
    "            \n",
    "            error_output = y_train - output_layer_output\n",
    "            error_hidden = error_output.dot(self.output_weights.T) * (hidden_layer_output > 0)\n",
    "\n",
    "            self.output_weights += hidden_layer_output.T.dot(error_output) * self.lr\n",
    "            self.output_bias += np.sum(error_output, axis=0, keepdims=True) * self.lr\n",
    "            self.hidden_weights += X_train.T.dot(error_hidden) * self.lr\n",
    "            self.hidden_bias += np.sum(error_hidden, axis=0, keepdims=True) * self.lr\n",
    "\n"
   ]
  },
  {
   "cell_type": "code",
   "execution_count": 14,
   "id": "d4616d51",
   "metadata": {},
   "outputs": [],
   "source": [
    "iris = load_iris()\n",
    "X = iris.data\n",
    "y = iris.target\n"
   ]
  },
  {
   "cell_type": "code",
   "execution_count": 15,
   "id": "415c261d",
   "metadata": {},
   "outputs": [],
   "source": [
    "X = (X - X.mean(axis=0)) / X.std(axis=0)\n"
   ]
  },
  {
   "cell_type": "code",
   "execution_count": 16,
   "id": "c3cb372c",
   "metadata": {},
   "outputs": [],
   "source": [
    "num_classes = len(np.unique(y))\n",
    "y_onehot = np.eye(num_classes)[y]\n"
   ]
  },
  {
   "cell_type": "code",
   "execution_count": 17,
   "id": "5283663f",
   "metadata": {},
   "outputs": [],
   "source": [
    "X_train, X_test, y_train, y_test = train_test_split(X, y_onehot, test_size=0.2, random_state=42)\n",
    "\n",
    "inputLayerNeurons = X_train.shape[1]\n",
    "hiddenLayerNeurons = 100\n",
    "outputLayerNeurons = num_classes\n",
    "lr = 0.01\n",
    "obj_ANN = NeuralNetwork(inputLayerNeurons, hiddenLayerNeurons, outputLayerNeurons, lr)\n",
    "\n",
    "epochs = 1000\n"
   ]
  },
  {
   "cell_type": "code",
   "execution_count": 18,
   "id": "dc3f2651",
   "metadata": {},
   "outputs": [],
   "source": [
    "obj_ANN.train(X_train, y_train, epochs)"
   ]
  },
  {
   "cell_type": "code",
   "execution_count": 19,
   "id": "155306c7",
   "metadata": {},
   "outputs": [
    {
     "name": "stdout",
     "output_type": "stream",
     "text": [
      "Test Accuracy: 1.0\n",
      "\n",
      "Predictions after training:\n",
      "\n",
      "Actual Class\t Predicted Class\n",
      "1 \t \t  1\n",
      "0 \t \t  0\n",
      "2 \t \t  2\n",
      "1 \t \t  1\n",
      "1 \t \t  1\n",
      "0 \t \t  0\n",
      "1 \t \t  1\n",
      "2 \t \t  2\n",
      "1 \t \t  1\n",
      "1 \t \t  1\n",
      "2 \t \t  2\n",
      "0 \t \t  0\n",
      "0 \t \t  0\n",
      "0 \t \t  0\n",
      "0 \t \t  0\n",
      "1 \t \t  1\n",
      "2 \t \t  2\n",
      "1 \t \t  1\n",
      "1 \t \t  1\n",
      "2 \t \t  2\n",
      "0 \t \t  0\n",
      "2 \t \t  2\n",
      "0 \t \t  0\n",
      "2 \t \t  2\n",
      "2 \t \t  2\n",
      "2 \t \t  2\n",
      "2 \t \t  2\n",
      "2 \t \t  2\n",
      "0 \t \t  0\n",
      "0 \t \t  0\n"
     ]
    }
   ],
   "source": [
    "predicted_output = obj_ANN.forward_prop(X_test)\n",
    "accuracy = np.mean(np.argmax(predicted_output, axis=1) == np.argmax(y_test, axis=1))\n",
    "print(f'Test Accuracy: {accuracy}')\n",
    "\n",
    "print(\"\\nPredictions after training:\\n\")\n",
    "print(\"Actual Class\\t Predicted Class\")\n",
    "for i in range(len(X_test)):\n",
    "    predicted = np.argmax(obj_ANN.forward_prop(X_test[i]))\n",
    "    actual = np.argmax(y_test[i])\n",
    "    print(actual, \"\\t \\t \", predicted)\n"
   ]
  },
  {
   "cell_type": "code",
   "execution_count": null,
   "id": "05a8efea",
   "metadata": {},
   "outputs": [],
   "source": []
  },
  {
   "cell_type": "code",
   "execution_count": null,
   "id": "8ae21f58",
   "metadata": {},
   "outputs": [],
   "source": []
  }
 ],
 "metadata": {
  "kernelspec": {
   "display_name": "Python 3 (ipykernel)",
   "language": "python",
   "name": "python3"
  },
  "language_info": {
   "codemirror_mode": {
    "name": "ipython",
    "version": 3
   },
   "file_extension": ".py",
   "mimetype": "text/x-python",
   "name": "python",
   "nbconvert_exporter": "python",
   "pygments_lexer": "ipython3",
   "version": "3.10.3"
  }
 },
 "nbformat": 4,
 "nbformat_minor": 5
}
