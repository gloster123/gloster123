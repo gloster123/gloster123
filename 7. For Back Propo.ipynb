{
 "cells": [
  {
   "cell_type": "markdown",
   "metadata": {},
   "source": [
    "## **ANN Group A Assignment_7: Implement Artificial Neural Network training process in Python by using Forward Propagation, Back Propagation.**"
   ]
  },
  {
   "cell_type": "code",
   "execution_count": 226,
   "metadata": {},
   "outputs": [],
   "source": [
    "import numpy as np\n",
    "import pandas as pd\n",
    "from sklearn.model_selection import train_test_split\n",
    "from sklearn.preprocessing import OneHotEncoder"
   ]
  },
  {
   "cell_type": "code",
   "execution_count": 227,
   "metadata": {},
   "outputs": [],
   "source": [
    "class ANN:\n",
    "    def __init__(self, input_size, hidden_size, output_size, learning_rate):\n",
    "        self.input_size = input_size\n",
    "        self.hidden_size = hidden_size\n",
    "        self.output_size = output_size\n",
    "        self.learning_rate = learning_rate\n",
    "        \n",
    "        # Initialize weights and biases\n",
    "        self.Wij = np.random.uniform(-0.5, 0.5, (self.input_size, self.hidden_size)) # Weights from input to hidden layer\n",
    "        self.Vjk = np.random.uniform(-0.5, 0.5, (self.hidden_size, self.output_size)) # Weights from hidden to output layer\n",
    "        \n",
    "        self.bias_j = np.random.uniform(-0.5, 0.5, (1, self.hidden_size)) # hidden layer bias\n",
    "        self.bias_k = np.random.uniform(-0.5, 0.5, (1, self.output_size)) # output  layer bias\n",
    "        \n",
    "    def sigmoid(self, x):\n",
    "        return 1 / (1 + np.exp(-x))\n",
    "     \n",
    "    def sigmoid_derivative(self, x):\n",
    "        return x * (1 - x)\n",
    "    \n",
    "    def forward_prop(self, x):\n",
    "        self.hidden_layer_input = np.dot(x, self.Wij) + self.bias_j # weighted sum  of inputs to the hidden layer\n",
    "        self.hidden_layer_output = self.sigmoid(self.hidden_layer_input) # output  of the hidden layer\n",
    "        \n",
    "        self.output_layer_input = np.dot(self.hidden_layer_output, self.Vjk) + self.bias_k\n",
    "        self.output_layer_output = self.sigmoid(self.output_layer_input)\n",
    "        \n",
    "        return self.output_layer_output\n",
    "    \n",
    "    def backprop(self, x, y, output):\n",
    "        error = y - output\n",
    "        delta_output = error * self.sigmoid_derivative(output)\n",
    "        \n",
    "        hidden_layer_error = delta_output.dot(self.Vjk.T)\n",
    "        hidden_layer_delta = hidden_layer_error * self.sigmoid_derivative(self.hidden_layer_output)\n",
    "        \n",
    "        # weight adjustment between hidden and output layers\n",
    "        self.Vjk += self.hidden_layer_output.T.dot(delta_output) * self.learning_rate\n",
    "         \n",
    "       # calculate new bias value for the output layer\n",
    "        self.bias_k += np.sum(delta_output) * self.learning_rate\n",
    "         \n",
    "        # weight adjustment between input and hidden layers\n",
    "        self.Wij += x.T.dot(hidden_layer_delta) * self.learning_rate\n",
    "        \n",
    "        # calculate new bias value for the hidden layer\n",
    "        self.bias_j += np.sum(hidden_layer_delta) * self.learning_rate\n",
    "        \n",
    "    def train(self, x, y, epochs):\n",
    "        for epoch in range(epochs):\n",
    "            output = self.forward_prop(x)\n",
    "            self.backprop(x, y, output)\n",
    "            if epoch % 1000 == 0:\n",
    "                print(f'Epoch {epoch}: Error {np.mean(np.abs(y - output))}')"
   ]
  },
  {
   "cell_type": "code",
   "execution_count": 228,
   "metadata": {},
   "outputs": [
    {
     "data": {
      "text/html": [
       "<div>\n",
       "<style scoped>\n",
       "    .dataframe tbody tr th:only-of-type {\n",
       "        vertical-align: middle;\n",
       "    }\n",
       "\n",
       "    .dataframe tbody tr th {\n",
       "        vertical-align: top;\n",
       "    }\n",
       "\n",
       "    .dataframe thead th {\n",
       "        text-align: right;\n",
       "    }\n",
       "</style>\n",
       "<table border=\"1\" class=\"dataframe\">\n",
       "  <thead>\n",
       "    <tr style=\"text-align: right;\">\n",
       "      <th></th>\n",
       "      <th>Id</th>\n",
       "      <th>SepalLengthCm</th>\n",
       "      <th>SepalWidthCm</th>\n",
       "      <th>PetalLengthCm</th>\n",
       "      <th>PetalWidthCm</th>\n",
       "      <th>Species</th>\n",
       "    </tr>\n",
       "  </thead>\n",
       "  <tbody>\n",
       "    <tr>\n",
       "      <th>0</th>\n",
       "      <td>1</td>\n",
       "      <td>5.1</td>\n",
       "      <td>3.5</td>\n",
       "      <td>1.4</td>\n",
       "      <td>0.2</td>\n",
       "      <td>Iris-setosa</td>\n",
       "    </tr>\n",
       "    <tr>\n",
       "      <th>1</th>\n",
       "      <td>2</td>\n",
       "      <td>4.9</td>\n",
       "      <td>3.0</td>\n",
       "      <td>1.4</td>\n",
       "      <td>0.2</td>\n",
       "      <td>Iris-setosa</td>\n",
       "    </tr>\n",
       "    <tr>\n",
       "      <th>2</th>\n",
       "      <td>3</td>\n",
       "      <td>4.7</td>\n",
       "      <td>3.2</td>\n",
       "      <td>1.3</td>\n",
       "      <td>0.2</td>\n",
       "      <td>Iris-setosa</td>\n",
       "    </tr>\n",
       "    <tr>\n",
       "      <th>3</th>\n",
       "      <td>4</td>\n",
       "      <td>4.6</td>\n",
       "      <td>3.1</td>\n",
       "      <td>1.5</td>\n",
       "      <td>0.2</td>\n",
       "      <td>Iris-setosa</td>\n",
       "    </tr>\n",
       "    <tr>\n",
       "      <th>4</th>\n",
       "      <td>5</td>\n",
       "      <td>5.0</td>\n",
       "      <td>3.6</td>\n",
       "      <td>1.4</td>\n",
       "      <td>0.2</td>\n",
       "      <td>Iris-setosa</td>\n",
       "    </tr>\n",
       "  </tbody>\n",
       "</table>\n",
       "</div>"
      ],
      "text/plain": [
       "   Id  SepalLengthCm  SepalWidthCm  PetalLengthCm  PetalWidthCm      Species\n",
       "0   1            5.1           3.5            1.4           0.2  Iris-setosa\n",
       "1   2            4.9           3.0            1.4           0.2  Iris-setosa\n",
       "2   3            4.7           3.2            1.3           0.2  Iris-setosa\n",
       "3   4            4.6           3.1            1.5           0.2  Iris-setosa\n",
       "4   5            5.0           3.6            1.4           0.2  Iris-setosa"
      ]
     },
     "execution_count": 228,
     "metadata": {},
     "output_type": "execute_result"
    }
   ],
   "source": [
    "df = pd.read_csv('Iris.csv')\n",
    "df.head()"
   ]
  },
  {
   "cell_type": "code",
   "execution_count": 229,
   "metadata": {},
   "outputs": [
    {
     "data": {
      "text/html": [
       "<div>\n",
       "<style scoped>\n",
       "    .dataframe tbody tr th:only-of-type {\n",
       "        vertical-align: middle;\n",
       "    }\n",
       "\n",
       "    .dataframe tbody tr th {\n",
       "        vertical-align: top;\n",
       "    }\n",
       "\n",
       "    .dataframe thead th {\n",
       "        text-align: right;\n",
       "    }\n",
       "</style>\n",
       "<table border=\"1\" class=\"dataframe\">\n",
       "  <thead>\n",
       "    <tr style=\"text-align: right;\">\n",
       "      <th></th>\n",
       "      <th>Id</th>\n",
       "      <th>SepalLengthCm</th>\n",
       "      <th>SepalWidthCm</th>\n",
       "      <th>PetalLengthCm</th>\n",
       "      <th>PetalWidthCm</th>\n",
       "      <th>Species</th>\n",
       "    </tr>\n",
       "  </thead>\n",
       "  <tbody>\n",
       "    <tr>\n",
       "      <th>0</th>\n",
       "      <td>1</td>\n",
       "      <td>5.1</td>\n",
       "      <td>3.5</td>\n",
       "      <td>1.4</td>\n",
       "      <td>0.2</td>\n",
       "      <td>1</td>\n",
       "    </tr>\n",
       "    <tr>\n",
       "      <th>1</th>\n",
       "      <td>2</td>\n",
       "      <td>4.9</td>\n",
       "      <td>3.0</td>\n",
       "      <td>1.4</td>\n",
       "      <td>0.2</td>\n",
       "      <td>1</td>\n",
       "    </tr>\n",
       "    <tr>\n",
       "      <th>2</th>\n",
       "      <td>3</td>\n",
       "      <td>4.7</td>\n",
       "      <td>3.2</td>\n",
       "      <td>1.3</td>\n",
       "      <td>0.2</td>\n",
       "      <td>1</td>\n",
       "    </tr>\n",
       "    <tr>\n",
       "      <th>3</th>\n",
       "      <td>4</td>\n",
       "      <td>4.6</td>\n",
       "      <td>3.1</td>\n",
       "      <td>1.5</td>\n",
       "      <td>0.2</td>\n",
       "      <td>1</td>\n",
       "    </tr>\n",
       "    <tr>\n",
       "      <th>4</th>\n",
       "      <td>5</td>\n",
       "      <td>5.0</td>\n",
       "      <td>3.6</td>\n",
       "      <td>1.4</td>\n",
       "      <td>0.2</td>\n",
       "      <td>1</td>\n",
       "    </tr>\n",
       "  </tbody>\n",
       "</table>\n",
       "</div>"
      ],
      "text/plain": [
       "   Id  SepalLengthCm  SepalWidthCm  PetalLengthCm  PetalWidthCm  Species\n",
       "0   1            5.1           3.5            1.4           0.2        1\n",
       "1   2            4.9           3.0            1.4           0.2        1\n",
       "2   3            4.7           3.2            1.3           0.2        1\n",
       "3   4            4.6           3.1            1.5           0.2        1\n",
       "4   5            5.0           3.6            1.4           0.2        1"
      ]
     },
     "execution_count": 229,
     "metadata": {},
     "output_type": "execute_result"
    }
   ],
   "source": [
    "df['Species'] = df['Species'].replace({'Iris-setosa': 1, 'Iris-virginica': 0, 'Iris-versicolor': 0})\n",
    "df.head()"
   ]
  },
  {
   "cell_type": "code",
   "execution_count": 230,
   "metadata": {},
   "outputs": [
    {
     "data": {
      "text/plain": [
       "array([[5.1, 3.5, 1.4, 0.2],\n",
       "       [4.9, 3. , 1.4, 0.2],\n",
       "       [4.7, 3.2, 1.3, 0.2],\n",
       "       [4.6, 3.1, 1.5, 0.2],\n",
       "       [5. , 3.6, 1.4, 0.2]])"
      ]
     },
     "execution_count": 230,
     "metadata": {},
     "output_type": "execute_result"
    }
   ],
   "source": [
    "arr1 = np.array([df['SepalLengthCm'], df['SepalWidthCm'], df['PetalLengthCm'], df['PetalWidthCm']]).T\n",
    "arr2 = np.array(df['Species'])\n",
    "arr1[0:5]"
   ]
  },
  {
   "cell_type": "code",
   "execution_count": 231,
   "metadata": {},
   "outputs": [
    {
     "name": "stdout",
     "output_type": "stream",
     "text": [
      "Epoch 0: Error 0.47415423749516933\n",
      "Epoch 1000: Error 0.006633332540410345\n",
      "Epoch 2000: Error 0.0045952451370901565\n",
      "Epoch 3000: Error 0.00371720894721454\n",
      "Epoch 4000: Error 0.0032008601540038217\n",
      "Epoch 5000: Error 0.002851507976779487\n",
      "Epoch 6000: Error 0.002595206614407884\n",
      "Epoch 7000: Error 0.0023969427357283892\n",
      "Epoch 8000: Error 0.00223772610610789\n",
      "Epoch 9000: Error 0.0021062532620437996\n"
     ]
    }
   ],
   "source": [
    "# Split data into training and testing sets\n",
    "X_train, X_test, y_train, y_test = train_test_split(arr1, arr2, test_size=0.2, random_state=30)\n",
    "\n",
    "# One-hot encode target labels for training\n",
    "encoder = OneHotEncoder(categories='auto')\n",
    "y_train_onehot = encoder.fit_transform(y_train.reshape(-1, 1)).toarray()\n",
    "\n",
    "# Training\n",
    "input_size = X_train.shape[1]\n",
    "hidden_size = 8\n",
    "output_size = y_train_onehot.shape[1]\n",
    "learning_rate = 0.1\n",
    "epochs = 10000\n",
    "\n",
    "obj_ANN = ANN(input_size, hidden_size, output_size, learning_rate)\n",
    "obj_ANN.train(X_train, y_train_onehot, epochs)"
   ]
  },
  {
   "cell_type": "code",
   "execution_count": 232,
   "metadata": {},
   "outputs": [
    {
     "name": "stdout",
     "output_type": "stream",
     "text": [
      "\n",
      "Predictions after training:\n",
      "\n",
      "Input Features\tSL | SW | PL | PW\t    Predicted Class\t Actual Class\n",
      "\t\t[5.4 3.4 1.7 0.2]\t\t    1\t\t     1\n",
      "\t\t[5.4 3.9 1.7 0.4]\t\t    1\t\t     1\n",
      "\t\t[4.6 3.1 1.5 0.2]\t\t    1\t\t     1\n",
      "\t\t[5.8 2.7 5.1 1.9]\t\t    0\t\t     0\n",
      "\t\t[5.8 2.7 3.9 1.2]\t\t    0\t\t     0\n",
      "\t\t[5.5 2.4 3.8 1.1]\t\t    0\t\t     0\n",
      "\t\t[6.3 2.7 4.9 1.8]\t\t    0\t\t     0\n",
      "\t\t[6.7 3.  5.2 2.3]\t\t    0\t\t     0\n",
      "\t\t[6.4 2.9 4.3 1.3]\t\t    0\t\t     0\n",
      "\t\t[7.3 2.9 6.3 1.8]\t\t    0\t\t     0\n",
      "\t\t[4.4 3.  1.3 0.2]\t\t    1\t\t     1\n",
      "\t\t[6.3 2.9 5.6 1.8]\t\t    0\t\t     0\n",
      "\t\t[5.  2.3 3.3 1. ]\t\t    0\t\t     0\n",
      "\t\t[5.7 2.8 4.1 1.3]\t\t    0\t\t     0\n",
      "\t\t[4.4 2.9 1.4 0.2]\t\t    1\t\t     1\n",
      "\t\t[6.2 2.9 4.3 1.3]\t\t    0\t\t     0\n",
      "\t\t[5.2 4.1 1.5 0.1]\t\t    1\t\t     1\n",
      "\t\t[4.9 3.  1.4 0.2]\t\t    1\t\t     1\n",
      "\t\t[4.8 3.4 1.9 0.2]\t\t    1\t\t     1\n",
      "\t\t[6.3 2.5 4.9 1.5]\t\t    0\t\t     0\n",
      "\t\t[6.3 2.8 5.1 1.5]\t\t    0\t\t     0\n",
      "\t\t[4.4 3.2 1.3 0.2]\t\t    1\t\t     1\n",
      "\t\t[5.1 3.5 1.4 0.2]\t\t    1\t\t     1\n",
      "\t\t[5.  3.2 1.2 0.2]\t\t    1\t\t     1\n",
      "\t\t[7.6 3.  6.6 2.1]\t\t    0\t\t     0\n",
      "\t\t[6.4 2.8 5.6 2.2]\t\t    0\t\t     0\n",
      "\t\t[5.9 3.2 4.8 1.8]\t\t    0\t\t     0\n",
      "\t\t[6.3 3.4 5.6 2.4]\t\t    0\t\t     0\n",
      "\t\t[4.7 3.2 1.3 0.2]\t\t    1\t\t     1\n",
      "\t\t[6.3 2.3 4.4 1.3]\t\t    0\t\t     0\n"
     ]
    }
   ],
   "source": [
    "# Testing\n",
    "print(\"\\nPredictions after training:\\n\")\n",
    "print(\"Input Features\\tSL | SW | PL | PW\\t    Predicted Class\\t Actual Class\")\n",
    "for i in range(len(X_test)):\n",
    "    predicted = obj_ANN.forward_prop(X_test[i])\n",
    "    predicted_class = np.argmax(predicted)\n",
    "    actual_class = y_test[i]\n",
    "    print(f\"\\t\\t{X_test[i]}\\t\\t    {predicted_class}\\t\\t     {actual_class}\") # setosa: 1 , versicolor: 0 or virginica: 0"
   ]
  },
  {
   "cell_type": "code",
   "execution_count": 233,
   "metadata": {},
   "outputs": [
    {
     "name": "stdout",
     "output_type": "stream",
     "text": [
      "Accuracy: 100.00%\n"
     ]
    }
   ],
   "source": [
    "# Calculate accuracy\n",
    "correct_count = 0\n",
    "total = len(X_test)\n",
    "\n",
    "for i in range(total):\n",
    "    predicted = obj_ANN.forward_prop(X_test[i])\n",
    "    predicted_class = np.argmax(predicted)\n",
    "    if predicted_class == y_test[i]:\n",
    "        correct_count += 1\n",
    "\n",
    "accuracy = (correct_count / total) * 100\n",
    "print(f\"Accuracy: {accuracy:.2f}%\")\n"
   ]
  }
 ],
 "metadata": {
  "kernelspec": {
   "display_name": "Python 3",
   "language": "python",
   "name": "python3"
  },
  "language_info": {
   "codemirror_mode": {
    "name": "ipython",
    "version": 3
   },
   "file_extension": ".py",
   "mimetype": "text/x-python",
   "name": "python",
   "nbconvert_exporter": "python",
   "pygments_lexer": "ipython3",
   "version": "3.11.0"
  }
 },
 "nbformat": 4,
 "nbformat_minor": 2
}
