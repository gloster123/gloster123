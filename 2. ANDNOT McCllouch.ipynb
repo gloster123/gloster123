{
 "cells": [
  {
   "cell_type": "markdown",
   "metadata": {},
   "source": [
    "\n",
    "#### ANN group A: Assignment 2 \n",
    "#### Generate ANDNOT function using McCulloch-Pitts neural net by a python program."
   ]
  },
  {
   "cell_type": "code",
   "execution_count": 345,
   "metadata": {},
   "outputs": [],
   "source": [
    "# import numpy as np"
   ]
  },
  {
   "cell_type": "code",
   "execution_count": 86,
   "metadata": {},
   "outputs": [],
   "source": [
    "def threshold_function(weighted_sum):\n",
    "    threshold = 2\n",
    "    if weighted_sum >= threshold:\n",
    "        return 1\n",
    "    return 0\n",
    "         "
   ]
  },
  {
   "cell_type": "code",
   "execution_count": 88,
   "metadata": {},
   "outputs": [],
   "source": [
    "def mc_pitts_model(x1,x2,weights):\n",
    "    n = len(x1) and len(x2) \n",
    "    for i in range(n):\n",
    "        sum_val = x1[i] * weights[i] + x2[i] * weights[i]\n",
    "        dp = threshold_function(sum_val)\n",
    "        \n",
    "        if dp == 1:\n",
    "            output = 0\n",
    "        else:\n",
    "            output = 1\n",
    "        \n",
    "        print(x1[i], \"\\t\", x2[i], \"\\t\", dp, \"\\t\", output)\n",
    "        "
   ]
  },
  {
   "cell_type": "code",
   "execution_count": 91,
   "metadata": {},
   "outputs": [
    {
     "name": "stdout",
     "output_type": "stream",
     "text": [
      "x1\t x2\t AND\t ANDNOT\n",
      "-------------------------------\n",
      "0 \t 0 \t 0 \t 1\n",
      "0 \t 1 \t 0 \t 1\n",
      "1 \t 0 \t 0 \t 1\n",
      "1 \t 1 \t 1 \t 0\n"
     ]
    }
   ],
   "source": [
    "x1 = [0,0,1,1]\n",
    "x2 = [0,1,0,1]\n",
    "weights = [-1,1,-1,1]\n",
    "\n",
    "print(\"x1\\t x2\\t AND\\t ANDNOT\\n-------------------------------\")\n",
    "mc_pitts_model(x1,x2,weights)\n"
   ]
  }
 ],
 "metadata": {
  "kernelspec": {
   "display_name": "Python 3 (ipykernel)",
   "language": "python",
   "name": "python3"
  },
  "language_info": {
   "codemirror_mode": {
    "name": "ipython",
    "version": 3
   },
   "file_extension": ".py",
   "mimetype": "text/x-python",
   "name": "python",
   "nbconvert_exporter": "python",
   "pygments_lexer": "ipython3",
   "version": "3.11.5"
  }
 },
 "nbformat": 4,
 "nbformat_minor": 2
}
