{
 "cells": [
  {
   "cell_type": "code",
   "execution_count": null,
   "id": "4d42d29f",
   "metadata": {},
   "outputs": [],
   "source": [
    "import numpy as np"
   ]
  },
  {
   "cell_type": "code",
   "execution_count": 2,
   "id": "3ba4bcac",
   "metadata": {},
   "outputs": [],
   "source": [
    "vector = np.array([[1,1,-1,-1],\n",
    "                   [1,-1,1,-1],\n",
    "                   [-1,1,-1,1],\n",
    "                   [-1,-1,1,1]])"
   ]
  },
  {
   "cell_type": "code",
   "execution_count": 5,
   "id": "a6081989",
   "metadata": {},
   "outputs": [],
   "source": [
    "weights=np.zeros((4,4))\n",
    "for i in range(4):\n",
    "    for j in range(4):\n",
    "            if i==j:\n",
    "                weights[i][j] = 0\n",
    "            else:\n",
    "                weights[i][j] = (np.dot(vector[i],vector[j]))/4"
   ]
  },
  {
   "cell_type": "code",
   "execution_count": 6,
   "id": "c4591b71",
   "metadata": {},
   "outputs": [],
   "source": [
    "def activation(x):\n",
    "    if x>=0:\n",
    "        return 1\n",
    "    else:\n",
    "        return -1"
   ]
  },
  {
   "cell_type": "code",
   "execution_count": 7,
   "id": "da9f0b2e",
   "metadata": {},
   "outputs": [],
   "source": [
    "def hopfield_network(x,weights):\n",
    "    y = np.copy(x)\n",
    "    for i in range(4):\n",
    "        sum = 0\n",
    "        for j in range(4):\n",
    "            sum += weights[i][j]*y[j]\n",
    "            y[i]=activation(sum)\n",
    "        return y    "
   ]
  },
  {
   "cell_type": "code",
   "execution_count": 8,
   "id": "994e4a3b",
   "metadata": {},
   "outputs": [
    {
     "name": "stdout",
     "output_type": "stream",
     "text": [
      "Input Vector: [ 1  1 -1 -1]\n",
      "Output Vector: [ 1  1 -1 -1]\n",
      "Input Vector: [ 1 -1  1 -1]\n",
      "Output Vector: [ 1 -1  1 -1]\n",
      "Input Vector: [-1  1 -1  1]\n",
      "Output Vector: [-1  1 -1  1]\n",
      "Input Vector: [-1 -1  1  1]\n",
      "Output Vector: [-1 -1  1  1]\n"
     ]
    }
   ],
   "source": [
    "for i in range(4):\n",
    "    print(\"Input Vector:\", vector[i])\n",
    "    output = hopfield_network(vector[i], weights)\n",
    "    print(\"Output Vector:\",output)"
   ]
  },
  {
   "cell_type": "code",
   "execution_count": 9,
   "id": "71d56995",
   "metadata": {},
   "outputs": [],
   "source": []
  },
  {
   "cell_type": "code",
   "execution_count": 10,
   "id": "173e700c",
   "metadata": {},
   "outputs": [],
   "source": []
  },
  {
   "cell_type": "code",
   "execution_count": 13,
   "id": "0eefdf5a",
   "metadata": {},
   "outputs": [],
   "source": []
  },
  {
   "cell_type": "code",
   "execution_count": 14,
   "id": "85f8ea28",
   "metadata": {},
   "outputs": [],
   "source": []
  },
  {
   "cell_type": "code",
   "execution_count": 17,
   "id": "4255c3f1",
   "metadata": {},
   "outputs": [],
   "source": []
  },
  {
   "cell_type": "code",
   "execution_count": null,
   "id": "a3eb52db",
   "metadata": {},
   "outputs": [],
   "source": []
  },
  {
   "cell_type": "code",
   "execution_count": null,
   "id": "d36a97d8",
   "metadata": {},
   "outputs": [],
   "source": []
  },
  {
   "cell_type": "code",
   "execution_count": null,
   "id": "9760df84",
   "metadata": {},
   "outputs": [],
   "source": []
  }
 ],
 "metadata": {
  "kernelspec": {
   "display_name": "Python 3 (ipykernel)",
   "language": "python",
   "name": "python3"
  },
  "language_info": {
   "codemirror_mode": {
    "name": "ipython",
    "version": 3
   },
   "file_extension": ".py",
   "mimetype": "text/x-python",
   "name": "python",
   "nbconvert_exporter": "python",
   "pygments_lexer": "ipython3",
   "version": "3.9.13"
  }
 },
 "nbformat": 4,
 "nbformat_minor": 5
}
