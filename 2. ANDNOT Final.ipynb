{
 "cells": [
  {
   "cell_type": "code",
   "execution_count": 3,
   "id": "8af2a4b0",
   "metadata": {},
   "outputs": [],
   "source": [
    "import numpy as np"
   ]
  },
  {
   "cell_type": "code",
   "execution_count": 7,
   "id": "d02ecd8b",
   "metadata": {},
   "outputs": [],
   "source": [
    "def mp_neuron(inputs, weights , threshold):\n",
    "    weighted_sum=np.dot(inputs,weights)\n",
    "    output = 1 if weighted_sum >= threshold else 0\n",
    "    return output"
   ]
  },
  {
   "cell_type": "code",
   "execution_count": 12,
   "id": "dfd742d9",
   "metadata": {},
   "outputs": [
    {
     "name": "stdout",
     "output_type": "stream",
     "text": [
      "ANDNOT(0,0) =  0\n",
      "ANDNOT(1,0) =  1\n",
      "ANDNOT(0,1) =  0\n",
      "ANDNOT(1,1) =  0\n"
     ]
    }
   ],
   "source": [
    "def and_not(x1,x2):\n",
    "    weights = [1,-1]\n",
    "    threshold = 1\n",
    "    inputs = [x1,x2]\n",
    "    return mp_neuron(inputs, weights , threshold)\n",
    "    \n",
    "print(\"ANDNOT(0,0) = \",and_not(0,0))\n",
    "print(\"ANDNOT(1,0) = \",and_not(1,0))\n",
    "print(\"ANDNOT(0,1) = \",and_not(0,1))\n",
    "print(\"ANDNOT(1,1) = \",and_not(1,1))\n",
    "\n",
    "\n",
    "    "
   ]
  },
  {
   "cell_type": "code",
   "execution_count": null,
   "id": "084afa9a",
   "metadata": {},
   "outputs": [],
   "source": []
  }
 ],
 "metadata": {
  "kernelspec": {
   "display_name": "Python 3 (ipykernel)",
   "language": "python",
   "name": "python3"
  },
  "language_info": {
   "codemirror_mode": {
    "name": "ipython",
    "version": 3
   },
   "file_extension": ".py",
   "mimetype": "text/x-python",
   "name": "python",
   "nbconvert_exporter": "python",
   "pygments_lexer": "ipython3",
   "version": "3.9.13"
  }
 },
 "nbformat": 4,
 "nbformat_minor": 5
}
